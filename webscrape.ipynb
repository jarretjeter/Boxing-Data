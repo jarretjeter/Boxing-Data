{
 "cells": [
  {
   "cell_type": "code",
   "execution_count": null,
   "metadata": {},
   "outputs": [],
   "source": [
    "from pprint import pprint\n",
    "from bs4 import BeautifulSoup\n",
    "import requests\n",
    "\n",
    "# result = requests.get(\"https://boxrec.com/en/locations/people?l%5Blocation%5D=US_30352&l%5Brole%5D=box-pro&l%5Bsex%5D=m&l%5Bdivision%5D=&level=&parent=&ad_id=&l%5Bloc_txt%5D=USA&l%5Blevel%5D=c&l%5Blevel_id%5D=US_30352&l_go=\")\n",
    "\n",
    "# print(result.status_code)\n",
    "# print(result.headers)\n",
    "\n",
    "from urllib.request import Request, urlopen\n",
    "\n",
    "req = Request('https://boxrec.com/en/locations/people?l%5Blocation%5D=US_30352&l%5Brole%5D=box-pro&l%5Bsex%5D=m&l%5Bdivision%5D=&level=&parent=&ad_id=&l%5Bloc_txt%5D=USA&l%5Blevel%5D=c&l%5Blevel_id%5D=US_30352&l_go=', headers={'User-Agent': 'XYZ/3.0'})\n",
    "webpage = urlopen(req, timeout=10).read()\n",
    "\n",
    "print(webpage)\n"
   ]
  },
  {
   "cell_type": "code",
   "execution_count": 4,
   "metadata": {},
   "outputs": [],
   "source": [
    "import os\n",
    "# print(os.environ)\n",
    "username = os.environ.get(\"BOXREC_USER\")\n",
    "password = os.environ.get(\"BOXREC_PASSWORD\")"
   ]
  },
  {
   "cell_type": "code",
   "execution_count": null,
   "metadata": {},
   "outputs": [],
   "source": [
    "import os\n",
    "import requests\n",
    "from bs4 import BeautifulSoup\n",
    "\n",
    "link = 'https://boxrec.com/en/login'\n",
    "\n",
    "with requests.Session() as s:\n",
    "    s.headers['User-Agent'] = 'Mozilla/5.0 (Windows NT 6.1) AppleWebKit/537.36 (KHTML, like Gecko) Chrome/87.0.4280.141 Safari/537.36'\n",
    "    res = s.get(link)\n",
    "    soup = BeautifulSoup(res.text,'html.parser')   \n",
    "    payload = {i['name']:i.get('value','') for i in soup.select('input[name]')}        \n",
    "    payload['username'] = username\n",
    "    payload['password'] = password\n",
    "\n",
    "    print(payload) \n",
    "\n",
    "    s.post(link,data=payload)\n",
    "    r = s.get('https://boxrec.com/en/search?p%5Bfirst_name%5D=*&p%5Blast_name%5D=*&p%5Brole%5D=fighters&p%5Bstatus%5D=&pf_go=submit&p%5BorderBy%5D=&p%5BorderDir%5D=ASC', timeout=None)\n",
    "    print(r.status_code)\n",
    "    # print(r.text)"
   ]
  }
 ],
 "metadata": {
  "kernelspec": {
   "display_name": "Python 3.7.13 ('venv': venv)",
   "language": "python",
   "name": "python3"
  },
  "language_info": {
   "codemirror_mode": {
    "name": "ipython",
    "version": 3
   },
   "file_extension": ".py",
   "mimetype": "text/x-python",
   "name": "python",
   "nbconvert_exporter": "python",
   "pygments_lexer": "ipython3",
   "version": "3.7.13"
  },
  "orig_nbformat": 4,
  "vscode": {
   "interpreter": {
    "hash": "f40e5c9081d4d49fa1ba294010d8034c901608eb5f7b164d01bfa1ff5636cf35"
   }
  }
 },
 "nbformat": 4,
 "nbformat_minor": 2
}
