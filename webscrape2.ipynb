{
 "cells": [
  {
   "cell_type": "code",
   "execution_count": null,
   "metadata": {},
   "outputs": [],
   "source": [
    "### Attempt at basic GET requests\n",
    "\n",
    "\n",
    "from pprint import pprint\n",
    "from bs4 import BeautifulSoup\n",
    "import requests\n",
    "\n",
    "# result = requests.get(\"https://boxrec.com/en/locations/people?l%5Blocation%5D=US_30352&l%5Brole%5D=box-pro&l%5Bsex%5D=m&l%5Bdivision%5D=&level=&parent=&ad_id=&l%5Bloc_txt%5D=USA&l%5Blevel%5D=c&l%5Blevel_id%5D=US_30352&l_go=\")\n",
    "\n",
    "# print(result.status_code)\n",
    "# print(result.headers)\n",
    "\n",
    "from urllib.request import Request, urlopen\n",
    "\n",
    "req = Request('https://boxrec.com/en/locations/people?l%5Blocation%5D=US_30352&l%5Brole%5D=box-pro&l%5Bsex%5D=m&l%5Bdivision%5D=&level=&parent=&ad_id=&l%5Bloc_txt%5D=USA&l%5Blevel%5D=c&l%5Blevel_id%5D=US_30352&l_go=', headers={'User-Agent': 'XYZ/3.0'})\n",
    "webpage = urlopen(req, timeout=10).read()\n",
    "\n",
    "print(webpage)"
   ]
  },
  {
   "cell_type": "code",
   "execution_count": null,
   "metadata": {},
   "outputs": [],
   "source": [
    "### assigning login information to variables\n",
    "\n",
    "\n",
    "import os\n",
    "# print(os.environ)\n",
    "username = os.environ.get(\"BOXREC_USER\")\n",
    "password = os.environ.get(\"BOXREC_PASSWORD\")"
   ]
  },
  {
   "cell_type": "code",
   "execution_count": null,
   "metadata": {},
   "outputs": [],
   "source": [
    "### attempt at logging in to boxrec with a user-agent, using login credentials\n",
    "\n",
    "\n",
    "import os\n",
    "import requests\n",
    "from bs4 import BeautifulSoup\n",
    "\n",
    "link = 'https://boxrec.com/en/login'\n",
    "\n",
    "with requests.Session() as s:\n",
    "    s.headers['User-Agent'] = 'Mozilla/5.0 (Windows NT 6.1) AppleWebKit/537.36 (KHTML, like Gecko) Chrome/87.0.4280.141 Safari/537.36'\n",
    "    res = s.get(link)\n",
    "    soup = BeautifulSoup(res.text,'html.parser')   \n",
    "    payload = {i['name']:i.get('value','') for i in soup.select('input[name]')}        \n",
    "    payload['username'] = username\n",
    "    payload['password'] = password\n",
    "\n",
    "    print(payload) \n",
    "\n",
    "    s.post(link,data=payload)\n",
    "    r = s.get('https://boxrec.com/en/search?p%5Bfirst_name%5D=*&p%5Blast_name%5D=*&p%5Brole%5D=fighters&p%5Bstatus%5D=&pf_go=submit&p%5BorderBy%5D=&p%5BorderDir%5D=ASC', timeout=None)\n",
    "    print(r.status_code)\n",
    "    print(r.text)"
   ]
  },
  {
   "cell_type": "code",
   "execution_count": null,
   "metadata": {},
   "outputs": [],
   "source": [
    "### Attempt at accessing boxrec through browser and using information from successful login for web scraping\n",
    "\n",
    "\n",
    "import requests\n",
    "\n",
    "cookies = {\n",
    "    '__stripe_mid': '09482d87-d57f-4b72-8eab-eb126b80d06b8b74ed',\n",
    "    '__cf_bm': 'EEC4qckCG8T0P1FPsEhYIDLzPgyIA4A.06Ta258Hcpc-1658519984-0-ATbzbv8bynnWwYQkierJlYjUnyDTgfoptxHwaizVrkHWLYptLsnQi1jRC+AnR/vcXbF6MFvnmYb76/JKsjx7VyI=',\n",
    "}\n",
    "\n",
    "headers = {\n",
    "    'User-Agent': 'Mozilla/5.0 (Windows NT 10.0; Win64; x64; rv:102.0) Gecko/20100101 Firefox/102.0',\n",
    "    'Accept': 'text/html,application/xhtml+xml,application/xml;q=0.9,image/avif,image/webp,*/*;q=0.8',\n",
    "    'Accept-Language': 'en-US,en;q=0.5',\n",
    "    # 'Accept-Encoding': 'gzip, deflate, br',\n",
    "    'Origin': 'https://boxrec.com',\n",
    "    'DNT': '1',\n",
    "    'Connection': 'keep-alive',\n",
    "    'Referer': 'https://boxrec.com/en/login',\n",
    "    # Requests sorts cookies= alphabetically\n",
    "    # 'Cookie': '__stripe_mid=09482d87-d57f-4b72-8eab-eb126b80d06b8b74ed; __cf_bm=EEC4qckCG8T0P1FPsEhYIDLzPgyIA4A.06Ta258Hcpc-1658519984-0-ATbzbv8bynnWwYQkierJlYjUnyDTgfoptxHwaizVrkHWLYptLsnQi1jRC+AnR/vcXbF6MFvnmYb76/JKsjx7VyI=',\n",
    "    'Upgrade-Insecure-Requests': '1',\n",
    "    'Sec-Fetch-Dest': 'document',\n",
    "    'Sec-Fetch-Mode': 'navigate',\n",
    "    'Sec-Fetch-Site': 'same-origin',\n",
    "    'Sec-Fetch-User': '?1',\n",
    "}\n",
    "\n",
    "data = {\n",
    "    '_username': username,\n",
    "    '_password': password,\n",
    "    'login[go]': '',\n",
    "}\n",
    "\n",
    "response = requests.post('https://boxrec.com/en/login', cookies=cookies, headers=headers, data=data)\n",
    "soup = BeautifulSoup(response.content, \"html.parser\")"
   ]
  },
  {
   "cell_type": "code",
   "execution_count": null,
   "metadata": {},
   "outputs": [],
   "source": [
    "all_fighters = requests.get('https://boxrec.com/en/search?p%5Bfirst_name%5D=*&p%5Blast_name%5D=*&p%5Brole%5D=fighters&p%5Bstatus%5D=&pf_go=submit&p%5BorderBy%5D=&p%5BorderDir%5D=ASC', timeout=None)\n",
    "print(all_fighters.status_code)\n",
    "print(all_fighters.text)"
   ]
  }
 ],
 "metadata": {
  "language_info": {
   "name": "python"
  },
  "orig_nbformat": 4
 },
 "nbformat": 4,
 "nbformat_minor": 2
}
