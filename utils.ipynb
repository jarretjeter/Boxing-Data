{
 "cells": [
  {
   "cell_type": "code",
   "execution_count": 26,
   "metadata": {},
   "outputs": [
    {
     "data": {
      "text/plain": [
       "ID              float64\n",
       "Name             object\n",
       "Wins              int64\n",
       "Losses            int64\n",
       "Draws             int64\n",
       "Country          object\n",
       "Region           object\n",
       "Town/City        object\n",
       "Years_Active     object\n",
       "Career_Start      int64\n",
       "Career_End        int64\n",
       "dtype: object"
      ]
     },
     "execution_count": 26,
     "metadata": {},
     "output_type": "execute_result"
    }
   ],
   "source": [
    "import pandas as pd\n",
    "import re\n",
    "\n",
    "boxer_df = pd.read_csv(\"./data/boxer_records.csv\")\n",
    "\n",
    "def fix_ids(dataframe: pd.DataFrame) -> pd.DataFrame:\n",
    "    \"\"\"\n",
    "    removes everything not a digit in the ID column and converts to_numeric\n",
    "    \"\"\"\n",
    "    dataframe[\"ID\"].replace(to_replace=r\"\\D\", value=\"\", regex=True, inplace=True)\n",
    "    dataframe[\"ID\"] = pd.to_numeric(dataframe[\"ID\"])\n",
    "    return dataframe\n",
    "\n",
    "# fix_ids(boxer_df)\n",
    "# boxer_df.head(46)\n",
    "# boxer_df.dtypes"
   ]
  }
 ],
 "metadata": {
  "kernelspec": {
   "display_name": "Python 3.7.13 ('venv': venv)",
   "language": "python",
   "name": "python3"
  },
  "language_info": {
   "codemirror_mode": {
    "name": "ipython",
    "version": 3
   },
   "file_extension": ".py",
   "mimetype": "text/x-python",
   "name": "python",
   "nbconvert_exporter": "python",
   "pygments_lexer": "ipython3",
   "version": "3.7.13"
  },
  "orig_nbformat": 4,
  "vscode": {
   "interpreter": {
    "hash": "f40e5c9081d4d49fa1ba294010d8034c901608eb5f7b164d01bfa1ff5636cf35"
   }
  }
 },
 "nbformat": 4,
 "nbformat_minor": 2
}
